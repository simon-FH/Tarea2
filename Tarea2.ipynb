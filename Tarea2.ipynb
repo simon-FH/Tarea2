{
 "cells": [
  {
   "cell_type": "code",
   "execution_count": 7,
   "id": "bdb6f78d",
   "metadata": {},
   "outputs": [],
   "source": [
    "prop_pago_i = 0.2\n",
    "prop_ahorrada = 0.1\n",
    "r = 0.1\n",
    "\n",
    "def ahorro_auto(salario_mensual, prop_ahorro, costo_auto):\n",
    "    ahorro_actual = 0\n",
    "    meses = 0\n",
    "    costo_pie = costo_auto*prop_pago_i\n",
    "    ahorro_mensual = salario_mensual*prop_ahorro\n",
    "\n",
    "    while costo_pie > ahorro_actual:\n",
    "        meses += 1\n",
    "        ahorro_actual += ahorro_mensual\n",
    "\n",
    "    print(\"Salario mensual:\", salario_mensual)\n",
    "    print(\"Porcentaje de salario a ahorrar:\", prop_ahorro)\n",
    "    print(\"Costo del auto:\", costo_auto)\n",
    "    print(\"N° de meses a ahorrar:\", meses)\n",
    "    print(\"\\n\")\n",
    "\n",
    "def ahorro_auto_inv(salario_mensual, prop_ahorro, costo_auto):\n",
    "    ahorro_actual = 0\n",
    "    meses = 0\n",
    "    costo_pie = costo_auto*prop_pago_i\n",
    "    ahorro_mensual = salario_mensual*prop_ahorro\n",
    "\n",
    "    while costo_pie > ahorro_actual:\n",
    "        meses += 1\n",
    "        ahorro_actual = ahorro_actual*(1+r) + ahorro_mensual\n",
    "\n",
    "    print(\"Salario mensual:\", salario_mensual)\n",
    "    print(\"Porcentaje de salario a ahorrar:\", prop_ahorro)\n",
    "    print(\"Costo del auto:\", costo_auto)\n",
    "    print(\"N° de meses a ahorrar:\", meses)\n",
    "    print(\"\\n\")\n",
    "\n",
    "def ahorro_auto_aum(salario_mensual, prop_ahorro, costo_auto, prop_aum_salario):\n",
    "    ahorro_actual = 0\n",
    "    meses = 0\n",
    "    costo_pie = costo_auto*prop_pago_i\n",
    "    ahorro_mensual = salario_mensual*prop_ahorro\n",
    "\n",
    "    while costo_pie > ahorro_actual:\n",
    "        meses += 1\n",
    "        ahorro_actual = ahorro_actual*(1+r) + ahorro_mensual\n",
    "        #print(meses)\n",
    "        #print(ahorro_mensual)\n",
    "        #se pagan 6 meses con el sueldo antiguo y al septimo empieza con el nuevo (así lo entendí yo)\n",
    "\n",
    "        if meses%6==0:\n",
    "            ahorro_mensual = ahorro_mensual*(1+prop_aum_salario)\n",
    "    #el aumento de salario se puede multiplicar con el ahorro mensual porque este se define como el salario mensual*una cte\n",
    "        \n",
    "    print(\"Salario mensual:\", salario_mensual)\n",
    "    print(\"Aumento de salario cada 6 meses:\", prop_aum_salario)\n",
    "    print(\"Porcentaje de salario a ahorrar:\", prop_ahorro)\n",
    "    print(\"Costo del auto:\", costo_auto)\n",
    "    print(\"N° de meses a ahorrar:\", meses)\n",
    "    print(\"\\n\")"
   ]
  },
  {
   "cell_type": "code",
   "execution_count": 12,
   "id": "e4cd3819",
   "metadata": {},
   "outputs": [
    {
     "name": "stdout",
     "output_type": "stream",
     "text": [
      "Salario mensual: 700000\n",
      "Porcentaje de salario a ahorrar: 0.05\n",
      "Costo del auto: 15000000\n",
      "N° de meses a ahorrar: 86\n",
      "\n",
      "\n",
      "Salario mensual: 700000\n",
      "Porcentaje de salario a ahorrar: 0.05\n",
      "Costo del auto: 15000000\n",
      "N° de meses a ahorrar: 24\n",
      "\n",
      "\n",
      "Salario mensual: 700000\n",
      "Aumento de salario cada 6 meses: 0.15\n",
      "Porcentaje de salario a ahorrar: 0.05\n",
      "Costo del auto: 15000000\n",
      "N° de meses a ahorrar: 23\n",
      "\n",
      "\n"
     ]
    }
   ],
   "source": [
    "    ahorro_auto(700000, 0.05, 15000000)\n",
    "ahorro_auto_inv(700000, 0.05, 15000000)\n",
    "ahorro_auto_aum(700000, 0.05, 15000000, 0.15)"
   ]
  },
  {
   "cell_type": "code",
   "execution_count": null,
   "id": "7e5452e6",
   "metadata": {},
   "outputs": [],
   "source": []
  }
 ],
 "metadata": {
  "kernelspec": {
   "display_name": "Python 3 (ipykernel)",
   "language": "python",
   "name": "python3"
  },
  "language_info": {
   "codemirror_mode": {
    "name": "ipython",
    "version": 3
   },
   "file_extension": ".py",
   "mimetype": "text/x-python",
   "name": "python",
   "nbconvert_exporter": "python",
   "pygments_lexer": "ipython3",
   "version": "3.10.9"
  }
 },
 "nbformat": 4,
 "nbformat_minor": 5
}
